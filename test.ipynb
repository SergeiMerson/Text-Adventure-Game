{
 "cells": [
  {
   "cell_type": "code",
   "execution_count": 1,
   "metadata": {},
   "outputs": [],
   "source": [
    "from modules import places as pl, objects as ob"
   ]
  },
  {
   "cell_type": "code",
   "execution_count": 2,
   "metadata": {},
   "outputs": [
    {
     "name": "stdout",
     "output_type": "stream",
     "text": [
      "Successfully created place: Hollyland\n",
      "Successfully created place: Mordor\n",
      "Directions were successfully created. Possible options are:\n",
      "\t               South <---> North               \n",
      "\t                East <---> West                \n",
      "\t               North <---> South               \n",
      "\t                West <---> East                \n",
      "{'name': 'Mordor', 'description': 'Evil place', 'connections': {}, 'items': [], 'objects': []}\n",
      "{'name': 'Hollyland', 'description': 'Sacred place', 'connections': {}, 'items': [], 'objects': []}\n",
      "{'South': 'North', 'East': 'West', 'North': 'South', 'West': 'East'}\n"
     ]
    }
   ],
   "source": [
    "hollyland = pl.create_place('Hollyland', 'Sacred place')\n",
    "mordor    = pl.create_place('Mordor',    'Evil place')\n",
    "directions = pl.get_dir_options()\n",
    "print(mordor, hollyland, directions, sep='\\n')"
   ]
  },
  {
   "cell_type": "code",
   "execution_count": 3,
   "metadata": {},
   "outputs": [
    {
     "name": "stdout",
     "output_type": "stream",
     "text": [
      "Successfully created route:            Hollyland <---> Mordor              \n",
      "{'name': 'Mordor', 'description': 'Evil place', 'connections': {'North': {'name': 'Hollyland', 'description': 'Sacred place', 'connections': {'South': {...}}, 'items': [], 'objects': []}}, 'items': [], 'objects': []}\n",
      "{'name': 'Hollyland', 'description': 'Sacred place', 'connections': {'South': {'name': 'Mordor', 'description': 'Evil place', 'connections': {'North': {...}}, 'items': [], 'objects': []}}, 'items': [], 'objects': []}\n",
      "{'South': 'North', 'East': 'West', 'North': 'South', 'West': 'East'}\n"
     ]
    }
   ],
   "source": [
    "pl.connect_places(hollyland, mordor, 'South', directions)\n",
    "print(mordor, hollyland, directions, sep='\\n')"
   ]
  },
  {
   "cell_type": "code",
   "execution_count": 4,
   "metadata": {},
   "outputs": [
    {
     "name": "stdout",
     "output_type": "stream",
     "text": [
      "Directions were successfully created. Possible options are:\n",
      "\t               South <---> North               \n",
      "\t                East <---> West                \n",
      "\t               North <---> South               \n",
      "\t                West <---> East                \n",
      "Successfully deleted route:            Hollyland <---> Mordor              \n",
      "{'name': 'Mordor', 'description': 'Evil place', 'connections': {}, 'items': [], 'objects': []}\n",
      "{'name': 'Hollyland', 'description': 'Sacred place', 'connections': {}, 'items': [], 'objects': []}\n",
      "{'South': 'North', 'East': 'West', 'North': 'South', 'West': 'East'}\n"
     ]
    }
   ],
   "source": [
    "pl.remove_connection(hollyland, 'South')\n",
    "print(mordor, hollyland, directions, sep='\\n')"
   ]
  },
  {
   "cell_type": "code",
   "execution_count": 5,
   "metadata": {},
   "outputs": [
    {
     "name": "stdout",
     "output_type": "stream",
     "text": [
      "Successfully created object: Table\n",
      "Successfully created object: Chair\n",
      "{'name': 'Table', 'description': 'An ancient table', 'location': {}, 'items': [], 'reactions': {}}\n",
      "{'name': 'Hollyland', 'description': 'Sacred place', 'connections': {}, 'items': [], 'objects': []}\n"
     ]
    }
   ],
   "source": [
    "table = ob.create_object('Table', 'An ancient table')\n",
    "chair = ob.create_object('Chair', 'An ancient chair')\n",
    "print(table, hollyland, sep='\\n')"
   ]
  },
  {
   "cell_type": "code",
   "execution_count": 6,
   "metadata": {},
   "outputs": [
    {
     "name": "stdout",
     "output_type": "stream",
     "text": [
      "Table was successfully put in Mordor\n",
      "{'name': 'Table', 'description': 'An ancient table', 'location': {'name': 'Mordor', 'description': 'Evil place', 'connections': {}, 'items': [{...}], 'objects': []}, 'items': [], 'reactions': {}}\n",
      "\n",
      "{'name': 'Mordor', 'description': 'Evil place', 'connections': {}, 'items': [{'name': 'Table', 'description': 'An ancient table', 'location': {...}, 'items': [], 'reactions': {}}], 'objects': []}\n"
     ]
    }
   ],
   "source": [
    "ob.put(table, mordor)\n",
    "print(table, mordor, sep='\\n\\n')"
   ]
  },
  {
   "cell_type": "code",
   "execution_count": 7,
   "metadata": {},
   "outputs": [
    {
     "name": "stdout",
     "output_type": "stream",
     "text": [
      "Table was successfully removed from Mordor\n",
      "Table was successfully moved to Hollyland\n",
      "{'name': 'Table', 'description': 'An ancient table', 'items': [], 'reactions': {}, 'location': {'name': 'Hollyland', 'description': 'Sacred place', 'connections': {}, 'items': [{...}], 'objects': []}}\n",
      "\n",
      "{'name': 'Mordor', 'description': 'Evil place', 'connections': {}, 'items': [], 'objects': []}\n",
      "\n",
      "{'name': 'Hollyland', 'description': 'Sacred place', 'connections': {}, 'items': [{'name': 'Table', 'description': 'An ancient table', 'items': [], 'reactions': {}, 'location': {...}}], 'objects': []}\n"
     ]
    }
   ],
   "source": [
    "ob.move(table, hollyland)\n",
    "print(table, mordor, hollyland, sep='\\n\\n')"
   ]
  },
  {
   "cell_type": "code",
   "execution_count": 8,
   "metadata": {},
   "outputs": [
    {
     "name": "stdout",
     "output_type": "stream",
     "text": [
      "Table was successfully removed from Hollyland\n",
      "{'name': 'Table', 'description': 'An ancient table', 'items': [], 'reactions': {}}\n",
      "\n",
      "{'name': 'Hollyland', 'description': 'Sacred place', 'connections': {}, 'items': [], 'objects': []}\n"
     ]
    }
   ],
   "source": [
    "ob.remove(table)\n",
    "print(table, hollyland, sep='\\n\\n')"
   ]
  },
  {
   "cell_type": "code",
   "execution_count": 9,
   "metadata": {},
   "outputs": [],
   "source": [
    "from modules import language"
   ]
  },
  {
   "cell_type": "code",
   "execution_count": 10,
   "metadata": {},
   "outputs": [
    {
     "name": "stdout",
     "output_type": "stream",
     "text": [
      "('take', 'go', 'use')\n",
      "\n",
      "{'get': 'take', 'pick up': 'take', 'take': 'take', 'follow': 'go', 'run': 'go', 'go': 'go', 'apply': 'use', 'use': 'use'}\n"
     ]
    }
   ],
   "source": [
    "commands, vocabulary = language.create_vocabulary()\n",
    "print(commands, vocabulary, sep='\\n\\n')"
   ]
  }
 ],
 "metadata": {
  "kernelspec": {
   "display_name": "Python 3",
   "language": "python",
   "name": "python3"
  },
  "language_info": {
   "codemirror_mode": {
    "name": "ipython",
    "version": 3
   },
   "file_extension": ".py",
   "mimetype": "text/x-python",
   "name": "python",
   "nbconvert_exporter": "python",
   "pygments_lexer": "ipython3",
   "version": "3.7.4"
  }
 },
 "nbformat": 4,
 "nbformat_minor": 4
}
